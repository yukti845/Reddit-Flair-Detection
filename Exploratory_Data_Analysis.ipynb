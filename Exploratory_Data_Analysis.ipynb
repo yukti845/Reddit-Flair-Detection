{
  "nbformat": 4,
  "nbformat_minor": 0,
  "metadata": {
    "colab": {
      "name": "Exploratory-Data-Analysis.ipynb",
      "provenance": [],
      "authorship_tag": "ABX9TyMRx1P/MOku11goTF5oLlDs",
      "include_colab_link": true
    },
    "kernelspec": {
      "name": "python3",
      "display_name": "Python 3"
    }
  },
  "cells": [
    {
      "cell_type": "markdown",
      "metadata": {
        "id": "view-in-github",
        "colab_type": "text"
      },
      "source": [
        "<a href=\"https://colab.research.google.com/github/yukti845/Reddit-Flair-Detection/blob/main/Exploratory_Data_Analysis.ipynb\" target=\"_parent\"><img src=\"https://colab.research.google.com/assets/colab-badge.svg\" alt=\"Open In Colab\"/></a>"
      ]
    },
    {
      "cell_type": "markdown",
      "metadata": {
        "id": "Yx_DqP4ePYGo"
      },
      "source": [
        "# Exploratory Data Analysis or EDA\n",
        "\n",
        "We need to explore data and become more and more familiar to and get a better understanding of the dataset.\n",
        "\n",
        "While talking about EDA, one must walk through the following check list:\n",
        "1. What questions are you trying to solve?\n",
        "2. What kind of data do you have?\n",
        "3. What's missing from the data and how would you deal to it?\n",
        "4. Where are the outliers and why should you care about them?\n",
        "5. How can you add, change or remove features to get more out of your data?\n"
      ]
    },
    {
      "cell_type": "markdown",
      "metadata": {
        "id": "4TY11I_3UqWz"
      },
      "source": [
        "### Importing data and required libraries"
      ]
    },
    {
      "cell_type": "code",
      "metadata": {
        "id": "0obKuKSQUi6k"
      },
      "source": [
        "import numpy as np\n",
        "import pandas as pd\n",
        "import matplotlib.pyplot as plt\n",
        "import seaborn as sns"
      ],
      "execution_count": 1,
      "outputs": []
    },
    {
      "cell_type": "code",
      "metadata": {
        "id": "Zz90HMWCVakG"
      },
      "source": [
        "data = pd.read_csv(\"/content/drive/MyDrive/data.csv\")"
      ],
      "execution_count": 3,
      "outputs": []
    },
    {
      "cell_type": "code",
      "metadata": {
        "colab": {
          "base_uri": "https://localhost:8080/",
          "height": 702
        },
        "id": "iPVzVe4nVtly",
        "outputId": "6406ee62-f06f-44b9-cbfa-ac1a075ce6f8"
      },
      "source": [
        "data.head()"
      ],
      "execution_count": 4,
      "outputs": [
        {
          "output_type": "execute_result",
          "data": {
            "text/html": [
              "<div>\n",
              "<style scoped>\n",
              "    .dataframe tbody tr th:only-of-type {\n",
              "        vertical-align: middle;\n",
              "    }\n",
              "\n",
              "    .dataframe tbody tr th {\n",
              "        vertical-align: top;\n",
              "    }\n",
              "\n",
              "    .dataframe thead th {\n",
              "        text-align: right;\n",
              "    }\n",
              "</style>\n",
              "<table border=\"1\" class=\"dataframe\">\n",
              "  <thead>\n",
              "    <tr style=\"text-align: right;\">\n",
              "      <th></th>\n",
              "      <th>flair</th>\n",
              "      <th>title</th>\n",
              "      <th>score</th>\n",
              "      <th>id</th>\n",
              "      <th>url</th>\n",
              "      <th>comms_num</th>\n",
              "      <th>body</th>\n",
              "      <th>author</th>\n",
              "      <th>comments</th>\n",
              "      <th>timestamp</th>\n",
              "      <th>combined_features</th>\n",
              "    </tr>\n",
              "  </thead>\n",
              "  <tbody>\n",
              "    <tr>\n",
              "      <th>0</th>\n",
              "      <td>AskIndia</td>\n",
              "      <td>approach girl</td>\n",
              "      <td>2</td>\n",
              "      <td>k0qt2r</td>\n",
              "      <td>https://www.reddit.com/r/india/comments/k0qt2r...</td>\n",
              "      <td>13</td>\n",
              "      <td>2 years back working startup company pretty de...</td>\n",
              "      <td>covidmanbun</td>\n",
              "      <td>stop watching indian movies stop stalking go p...</td>\n",
              "      <td>2020-11-25 19:50:12</td>\n",
              "      <td>approach girlstop watching indian movies stop ...</td>\n",
              "    </tr>\n",
              "    <tr>\n",
              "      <th>1</th>\n",
              "      <td>AskIndia</td>\n",
              "      <td>gelatine available</td>\n",
              "      <td>0</td>\n",
              "      <td>jk9zlt</td>\n",
              "      <td>https://www.reddit.com/r/india/comments/jk9zlt...</td>\n",
              "      <td>4</td>\n",
              "      <td>wish buy gelatine looking cheapest local price...</td>\n",
              "      <td>csstudentG</td>\n",
              "      <td>available regular kirana stores usually kept r...</td>\n",
              "      <td>2020-10-29 21:26:38</td>\n",
              "      <td>gelatine availableavailable regular kirana sto...</td>\n",
              "    </tr>\n",
              "    <tr>\n",
              "      <th>2</th>\n",
              "      <td>AskIndia</td>\n",
              "      <td>trevor noah jokes indo pak tensions seriousnes...</td>\n",
              "      <td>45</td>\n",
              "      <td>gv9lmh</td>\n",
              "      <td>https://www.reddit.com/r/india/comments/gv9lmh...</td>\n",
              "      <td>29</td>\n",
              "      <td>really watch much trevor noah late night show ...</td>\n",
              "      <td>CommYouNitty</td>\n",
              "      <td>mostly country really matter lives pretty chea...</td>\n",
              "      <td>2020-06-02 23:42:24</td>\n",
              "      <td>trevor noah jokes indo pak tensions seriousnes...</td>\n",
              "    </tr>\n",
              "    <tr>\n",
              "      <th>3</th>\n",
              "      <td>AskIndia</td>\n",
              "      <td>buying used bs4 scooty april 1 issues registra...</td>\n",
              "      <td>11</td>\n",
              "      <td>hpqq5o</td>\n",
              "      <td>https://www.reddit.com/r/india/comments/hpqq5o...</td>\n",
              "      <td>7</td>\n",
              "      <td>know right place ask askindia asking saw artic...</td>\n",
              "      <td>akza07</td>\n",
              "      <td>scammers keep scamming applies new vehicles bu...</td>\n",
              "      <td>2020-07-12 15:58:15</td>\n",
              "      <td>buying used bs4 scooty april 1 issues registra...</td>\n",
              "    </tr>\n",
              "    <tr>\n",
              "      <th>4</th>\n",
              "      <td>AskIndia</td>\n",
              "      <td>need feedback insurance policy took x post ask...</td>\n",
              "      <td>1</td>\n",
              "      <td>1s57oi</td>\n",
              "      <td>https://www.reddit.com/r/india/comments/1s57oi...</td>\n",
              "      <td>1</td>\n",
              "      <td>posting lack activity r askindia hello last ye...</td>\n",
              "      <td>dhavalcoholic</td>\n",
              "      <td>dear policy holder dhavalcoholic request help ...</td>\n",
              "      <td>2013-12-05 14:30:23</td>\n",
              "      <td>need feedback insurance policy took x post ask...</td>\n",
              "    </tr>\n",
              "  </tbody>\n",
              "</table>\n",
              "</div>"
            ],
            "text/plain": [
              "      flair  ...                                  combined_features\n",
              "0  AskIndia  ...  approach girlstop watching indian movies stop ...\n",
              "1  AskIndia  ...  gelatine availableavailable regular kirana sto...\n",
              "2  AskIndia  ...  trevor noah jokes indo pak tensions seriousnes...\n",
              "3  AskIndia  ...  buying used bs4 scooty april 1 issues registra...\n",
              "4  AskIndia  ...  need feedback insurance policy took x post ask...\n",
              "\n",
              "[5 rows x 11 columns]"
            ]
          },
          "metadata": {
            "tags": []
          },
          "execution_count": 4
        }
      ]
    },
    {
      "cell_type": "code",
      "metadata": {
        "colab": {
          "base_uri": "https://localhost:8080/"
        },
        "id": "alTOgi-fWCPs",
        "outputId": "53648e07-c802-40b1-81ab-3ad7ed91292a"
      },
      "source": [
        "data.shape"
      ],
      "execution_count": 6,
      "outputs": [
        {
          "output_type": "execute_result",
          "data": {
            "text/plain": [
              "(1200, 11)"
            ]
          },
          "metadata": {
            "tags": []
          },
          "execution_count": 6
        }
      ]
    },
    {
      "cell_type": "code",
      "metadata": {
        "colab": {
          "base_uri": "https://localhost:8080/"
        },
        "id": "jS95EYs-WLZV",
        "outputId": "d636ea04-593f-496c-9d99-bc352f8f9b99"
      },
      "source": [
        "data.flair.value_counts()"
      ],
      "execution_count": 7,
      "outputs": [
        {
          "output_type": "execute_result",
          "data": {
            "text/plain": [
              "Food                  100\n",
              "Photography           100\n",
              "Policy/Economy        100\n",
              "AMA                   100\n",
              "Politics              100\n",
              "Science/Technology    100\n",
              "Scheduled             100\n",
              "Coronavirus           100\n",
              "Business/Finance      100\n",
              "Non-Political         100\n",
              "AskIndia              100\n",
              "Sports                100\n",
              "Name: flair, dtype: int64"
            ]
          },
          "metadata": {
            "tags": []
          },
          "execution_count": 7
        }
      ]
    },
    {
      "cell_type": "code",
      "metadata": {
        "colab": {
          "base_uri": "https://localhost:8080/",
          "height": 353
        },
        "id": "BshDG-GxWea3",
        "outputId": "40c0d1f2-2cef-4df0-8b0d-4e9d815328e0"
      },
      "source": [
        "data.flair.value_counts().plot(kind='bar', color=['salmon']);"
      ],
      "execution_count": 8,
      "outputs": [
        {
          "output_type": "display_data",
          "data": {
            "image/png": "[encoded data removed]",
            "text/plain": [
              "<Figure size 432x288 with 1 Axes>"
            ]
          },
          "metadata": {
            "tags": [],
            "needs_background": "light"
          }
        }
      ]
    },
    {
      "cell_type": "code",
      "metadata": {
        "colab": {
          "base_uri": "https://localhost:8080/"
        },
        "id": "UK5R5luXXR60",
        "outputId": "c1adfe5d-7504-45b0-9bc9-e7a90f5670dc"
      },
      "source": [
        "data.info()"
      ],
      "execution_count": 9,
      "outputs": [
        {
          "output_type": "stream",
          "text": [
            "<class 'pandas.core.frame.DataFrame'>\n",
            "RangeIndex: 1200 entries, 0 to 1199\n",
            "Data columns (total 11 columns):\n",
            " #   Column             Non-Null Count  Dtype \n",
            "---  ------             --------------  ----- \n",
            " 0   flair              1200 non-null   object\n",
            " 1   title              1200 non-null   object\n",
            " 2   score              1200 non-null   int64 \n",
            " 3   id                 1200 non-null   object\n",
            " 4   url                1200 non-null   object\n",
            " 5   comms_num          1200 non-null   int64 \n",
            " 6   body               723 non-null    object\n",
            " 7   author             1200 non-null   object\n",
            " 8   comments           1087 non-null   object\n",
            " 9   timestamp          1200 non-null   object\n",
            " 10  combined_features  1200 non-null   object\n",
            "dtypes: int64(2), object(9)\n",
            "memory usage: 103.2+ KB\n"
          ],
          "name": "stdout"
        }
      ]
    },
    {
      "cell_type": "code",
      "metadata": {
        "colab": {
          "base_uri": "https://localhost:8080/",
          "height": 284
        },
        "id": "yWRf3ODFXZof",
        "outputId": "ce92a69b-213e-413a-83c1-170d04371205"
      },
      "source": [
        "data.describe()"
      ],
      "execution_count": 10,
      "outputs": [
        {
          "output_type": "execute_result",
          "data": {
            "text/html": [
              "<div>\n",
              "<style scoped>\n",
              "    .dataframe tbody tr th:only-of-type {\n",
              "        vertical-align: middle;\n",
              "    }\n",
              "\n",
              "    .dataframe tbody tr th {\n",
              "        vertical-align: top;\n",
              "    }\n",
              "\n",
              "    .dataframe thead th {\n",
              "        text-align: right;\n",
              "    }\n",
              "</style>\n",
              "<table border=\"1\" class=\"dataframe\">\n",
              "  <thead>\n",
              "    <tr style=\"text-align: right;\">\n",
              "      <th></th>\n",
              "      <th>score</th>\n",
              "      <th>comms_num</th>\n",
              "    </tr>\n",
              "  </thead>\n",
              "  <tbody>\n",
              "    <tr>\n",
              "      <th>count</th>\n",
              "      <td>1200.000000</td>\n",
              "      <td>1200.000000</td>\n",
              "    </tr>\n",
              "    <tr>\n",
              "      <th>mean</th>\n",
              "      <td>231.893333</td>\n",
              "      <td>50.800000</td>\n",
              "    </tr>\n",
              "    <tr>\n",
              "      <th>std</th>\n",
              "      <td>925.327222</td>\n",
              "      <td>182.873131</td>\n",
              "    </tr>\n",
              "    <tr>\n",
              "      <th>min</th>\n",
              "      <td>0.000000</td>\n",
              "      <td>0.000000</td>\n",
              "    </tr>\n",
              "    <tr>\n",
              "      <th>25%</th>\n",
              "      <td>8.000000</td>\n",
              "      <td>3.000000</td>\n",
              "    </tr>\n",
              "    <tr>\n",
              "      <th>50%</th>\n",
              "      <td>29.000000</td>\n",
              "      <td>11.000000</td>\n",
              "    </tr>\n",
              "    <tr>\n",
              "      <th>75%</th>\n",
              "      <td>123.000000</td>\n",
              "      <td>40.250000</td>\n",
              "    </tr>\n",
              "    <tr>\n",
              "      <th>max</th>\n",
              "      <td>18851.000000</td>\n",
              "      <td>4166.000000</td>\n",
              "    </tr>\n",
              "  </tbody>\n",
              "</table>\n",
              "</div>"
            ],
            "text/plain": [
              "              score    comms_num\n",
              "count   1200.000000  1200.000000\n",
              "mean     231.893333    50.800000\n",
              "std      925.327222   182.873131\n",
              "min        0.000000     0.000000\n",
              "25%        8.000000     3.000000\n",
              "50%       29.000000    11.000000\n",
              "75%      123.000000    40.250000\n",
              "max    18851.000000  4166.000000"
            ]
          },
          "metadata": {
            "tags": []
          },
          "execution_count": 10
        }
      ]
    },
    {
      "cell_type": "code",
      "metadata": {
        "colab": {
          "base_uri": "https://localhost:8080/"
        },
        "id": "-piF7YkrXojk",
        "outputId": "84277252-d0d8-4dbf-e810-08e20c7fd251"
      },
      "source": [
        "data.author.value_counts()"
      ],
      "execution_count": 11,
      "outputs": [
        {
          "output_type": "execute_result",
          "data": {
            "text/plain": [
              "AutoModerator         30\n",
              "InternetFreedomIn     15\n",
              "satyasys              15\n",
              "mubukugrappa          13\n",
              "pagesindigo           11\n",
              "                      ..\n",
              "Liftingphilosopher     1\n",
              "officialshebu          1\n",
              "Silent_Quiefer         1\n",
              "Smaartmani             1\n",
              "Plastic-Season         1\n",
              "Name: author, Length: 885, dtype: int64"
            ]
          },
          "metadata": {
            "tags": []
          },
          "execution_count": 11
        }
      ]
    },
    {
      "cell_type": "code",
      "metadata": {
        "colab": {
          "base_uri": "https://localhost:8080/",
          "height": 279
        },
        "id": "iXqhxJeoYX_r",
        "outputId": "46349f58-899e-4069-8d63-72dd947df64c"
      },
      "source": [
        "fig,ax = plt.subplots()\n",
        "ax.grid()\n",
        "data.groupby('flair').plot(x='comms_num', y='score', ax=ax, legend=False)\n",
        "plt.savefig('comms_num-score plot')\n",
        "plt.show()"
      ],
      "execution_count": 14,
      "outputs": [
        {
          "output_type": "display_data",
          "data": {
            "image/png": "[encoded data removed]",
            "text/plain": [
              "<Figure size 432x288 with 1 Axes>"
            ]
          },
          "metadata": {
            "tags": [],
            "needs_background": "light"
          }
        }
      ]
    },
    {
      "cell_type": "code",
      "metadata": {
        "id": "DDfMKHGBbkZa"
      },
      "source": [
        ""
      ],
      "execution_count": null,
      "outputs": []
    }
  ]
}